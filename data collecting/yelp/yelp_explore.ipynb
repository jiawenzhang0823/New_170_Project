{
 "cells": [
  {
   "cell_type": "code",
   "execution_count": 1,
   "metadata": {},
   "outputs": [
    {
     "data": {
      "text/plain": [
       "business_id      object\n",
       "name             object\n",
       "address          object\n",
       "city             object\n",
       "state            object\n",
       "postal_code      object\n",
       "latitude        float64\n",
       "longitude       float64\n",
       "stars           float64\n",
       "review_count      int64\n",
       "is_open           int64\n",
       "attributes       object\n",
       "categories       object\n",
       "hours            object\n",
       "dtype: object"
      ]
     },
     "execution_count": 1,
     "metadata": {},
     "output_type": "execute_result"
    }
   ],
   "source": [
    "import pandas as pd\n",
    "import numpy as np\n",
    "\n",
    "data = pd.read_json(\"C:\\\\Users\\\\kev\\\\Downloads\\\\yelp_dataset-1\\\\yelp_academic_dataset_business.json\",lines = True)\n",
    "data.dtypes"
   ]
  },
  {
   "cell_type": "code",
   "execution_count": 39,
   "metadata": {},
   "outputs": [],
   "source": [
    "# exploring categories\n",
    "s = set()\n",
    "for i in data.categories:\n",
    "    temp = str(i).split(\", \")\n",
    "    for j in temp:\n",
    "        s.add(j)"
   ]
  },
  {
   "cell_type": "code",
   "execution_count": 40,
   "metadata": {},
   "outputs": [],
   "source": [
    "s = sorted(list(s))\n",
    "with open(\"output_ca.text\", 'w') as f:\n",
    "    for i in s:\n",
    "        f.write(i+'\\n')\n",
    "\n",
    "key = [\"Bubble Tea\",\"Coffee & Tea\",\\\n",
    "\"Coffee & Tea Supplies\"]"
   ]
  },
  {
   "cell_type": "code",
   "execution_count": 48,
   "metadata": {},
   "outputs": [],
   "source": [
    "a = data.categories.str.contains(\"Bubble Tea\")\n",
    "b = data.categories.str.contains(\"Coffee & Tea\")\n",
    "c = data.categories.str.contains(\"Coffee & Tea Supplies\")\n",
    "for i in range(len(b)):\n",
    "    a[i] = b[i] or c[i]"
   ]
  },
  {
   "cell_type": "code",
   "execution_count": 49,
   "metadata": {},
   "outputs": [
    {
     "name": "stdout",
     "output_type": "stream",
     "text": [
      "6704\n"
     ]
    }
   ],
   "source": [
    "a = a.dropna()\n",
    "count = 0 \n",
    "for i in a:\n",
    "    count += i\n",
    "print(count)"
   ]
  }
 ],
 "metadata": {
  "interpreter": {
   "hash": "965b21f48fa20df250614d72081c6e9f5abe9577459cdc2c4468957f99a2b166"
  },
  "kernelspec": {
   "display_name": "Python 3.7.4 64-bit (system)",
   "language": "python",
   "name": "python3"
  },
  "language_info": {
   "codemirror_mode": {
    "name": "ipython",
    "version": 3
   },
   "file_extension": ".py",
   "mimetype": "text/x-python",
   "name": "python",
   "nbconvert_exporter": "python",
   "pygments_lexer": "ipython3",
   "version": "3.8.5"
  },
  "orig_nbformat": 4
 },
 "nbformat": 4,
 "nbformat_minor": 2
}
